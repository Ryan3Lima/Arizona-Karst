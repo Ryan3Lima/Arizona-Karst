{
 "cells": [
  {
   "cell_type": "markdown",
   "id": "8ac832ef-1274-413c-95b5-a75fa1aa06e1",
   "metadata": {},
   "source": [
    "# Loading and Plotting a DEM which is online on some kind of cloud storage service.\n"
   ]
  },
  {
   "cell_type": "code",
   "execution_count": null,
   "id": "e73a0627-c6a1-4e67-97f5-2cd114489480",
   "metadata": {},
   "outputs": [],
   "source": [
    "## 1. Install the necessary libraries if they are not installed in your environment\n",
    "#!pip install rasterio matplotlib"
   ]
  },
  {
   "cell_type": "code",
   "execution_count": 9,
   "id": "dcdaa372-091c-46ec-9411-ee3c8c5291e2",
   "metadata": {},
   "outputs": [],
   "source": [
    "## 2. Load the libraries \n",
    "import rasterio # a package with functions for working with raster data and plotting them\n",
    "from rasterio.plot import show \n",
    "from matplotlib import pyplot as plt # plotting and visualization library \n",
    "import numpy as np # a package for handling numeric arrays and matricies"
   ]
  },
  {
   "cell_type": "code",
   "execution_count": null,
   "id": "944a9cc1-cb98-49c7-abc9-fb97f32d7120",
   "metadata": {},
   "outputs": [],
   "source": [
    "## 3. Load the URL using Rasterio and the path to the file\n",
    "url = 'https://atur-karst.s3.us-east-2.amazonaws.com/MMRK1m.tif'\n",
    "\n",
    "with rasterio.open(url) as src:\n",
    "    dem = src.read(1)\n",
    "    profile = src.profile"
   ]
  },
  {
   "cell_type": "markdown",
   "id": "6d16bded-3db8-460b-90bf-ec7086a2fd79",
   "metadata": {},
   "source": [
    "## 4. Create a basic function to create a hillshade from the .tif file\n",
    "\n",
    "What the function does line by line:\n",
    "```\n",
    "x,y = np.gradient(dem)\n",
    "```\n",
    "'np.gradient(dem)' is a function that computes the gradiant of an array, when applied to a 2D array, it computes the partial derivatives along each access in this context, the DEM is a 2D array where each cell represents an elevation value. It returns two arrays, one for the gradient in the x direction, and one for the gradient in the y direction stored as variables 'x' and 'y'\n",
    "\n",
    "why we need gradients? To create a hillshade we need to calculate both the slope and aspect of each pixel. The slope is calculated by combining the x and y gradients for each pixel. the aspect is the direction of the slope and is calculated using the ratio of the gradients. This determines the orientation of the slope relative to north.\n",
    "\n",
    "```\n",
    "slope = np.pi/2. - np.arctan(np.sqrt(x*x + y*y))\n",
    "```\n",
    "'np.arctan(np.sqrt(x*x + y*y))' calculates the inverse tangent of the gradient maginitude. the arctangent function returns the angle whose tangent is the given value, in this case it returns the angle of the slope in radians relative to the horizontal plane\n",
    "\n",
    "'np.pi/2.' represents 90 degrees in radians, which is a vertical slope.\n",
    "\n",
    "subtracting the arctangent value from 'np.pi/2.' converts the angle from a horizontal reference to a vertical value\n",
    "\n",
    "Conceptually, this step translates the rate of change in elevation (the gradient) into the angle that repsents the steepness of the terrain"
   ]
  },
  {
   "cell_type": "code",
   "execution_count": null,
   "id": "d70ed268-d0e9-4230-811d-9cc4ffeb8c35",
   "metadata": {},
   "outputs": [],
   "source": [
    "## 4. Create a basic function to create a hillshade from the .tif file\n",
    "def hillshade(dem, azimuth=315, angle_altitude=45):\n",
    "    x, y = np.gradient(dem)\n",
    "    slope = np.pi/2. - np.arctan(np.sqrt(x*x + y*y)) # calculate slope\n",
    "    aspect = np.arctan2(-x, y) # calcuate aspect\n",
    "    azimuth_rad = azimuth * np.pi / 180. # set the azimuth or sun direction in degrees from north \n",
    "    altitude_rad = angle_altitude * np.pi / 180. # set the altitude of the sun in degrees above horizontal\n",
    "    shaded = np.sin(altitude_rad) * np.sin(slope) + np.cos(altitude_rad) * np.cos(slope) * np.cos(azimuth_rad - aspect)\n",
    "    return 255 * (shaded + 1) / 2\n",
    "\n",
    "hillshade_dem = hillshade(dem)"
   ]
  },
  {
   "cell_type": "code",
   "execution_count": null,
   "id": "05d150e2-2194-4464-9350-6c0404c6b5e6",
   "metadata": {},
   "outputs": [],
   "source": [
    "## 5. Plot the hillshade using matplot lib \n",
    "\n",
    "plt.figure(figsize=(10, 10)) # set the size of the blank canvas 10 x 10 inches\n",
    "plt.imshow(hillshade_dem, cmap='terrain') # create a plot using the hillshade of the DEM \n",
    "plt.title('Hillshade') # create a title for the plot\n",
    "plt.axis('off') # format the axes\n",
    "plt.colorbar() # plot the color bar\n",
    "plt.show() # display the plot \n"
   ]
  },
  {
   "cell_type": "code",
   "execution_count": null,
   "id": "53c09b3a-bb48-4abb-936b-b938b6657605",
   "metadata": {},
   "outputs": [],
   "source": [
    "# demonstrate with #3DEP data "
   ]
  }
 ],
 "metadata": {
  "kernelspec": {
   "display_name": "Python 3 (ipykernel)",
   "language": "python",
   "name": "python3"
  },
  "language_info": {
   "codemirror_mode": {
    "name": "ipython",
    "version": 3
   },
   "file_extension": ".py",
   "mimetype": "text/x-python",
   "name": "python",
   "nbconvert_exporter": "python",
   "pygments_lexer": "ipython3",
   "version": "3.9.19"
  }
 },
 "nbformat": 4,
 "nbformat_minor": 5
}
